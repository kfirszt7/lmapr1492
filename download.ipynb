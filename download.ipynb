{
 "cells": [
  {
   "cell_type": "code",
   "execution_count": 5,
   "metadata": {},
   "outputs": [
    {
     "name": "stdout",
     "output_type": "stream",
     "text": [
      "Full Formula (Li1 Tb1 Se2)\n",
      "Reduced Formula: LiTbSe2\n",
      "abc   :   6.923143   6.923143   6.923143\n",
      "angles:  34.340415  34.340415  34.340415\n",
      "Sites (4)\n",
      "  #  SP           a         b         c    magmom\n",
      "---  ----  --------  --------  --------  --------\n",
      "  0  Li    0.5       0.5       0.5              0\n",
      "  1  Se    0.248733  0.248733  0.248733         0\n",
      "  2  Se    0.751267  0.751267  0.751267         0\n",
      "  3  Tb    0         0         0                0\n"
     ]
    }
   ],
   "source": [
    "from pymatgen.ext.matproj import MPRester\n",
    "from pymatgen.io.cif import CifWriter\n",
    "with MPRester(\"r7QKrVN0WzAjMGwDF\") as m:\n",
    "    structure = m.get_structure_by_material_id(\"mp-15793\")\n",
    "print(structure)\n",
    "\n",
    "    # Dos for material id\n",
    "    #dos = m.get_dos_by_material_id(\"mp-15793\")\n",
    "\n",
    "    # Bandstructure for material id\n",
    "    #bandstructure = m.get_bandstructure_by_material_id(\"mp-15793\")\n",
    "    \n",
    "file = CifWriter(structure)\n",
    "file.write_file('Structure_LiTbSe2.cif')\n"
   ]
  },
  {
   "cell_type": "code",
   "execution_count": null,
   "metadata": {},
   "outputs": [],
   "source": []
  },
  {
   "cell_type": "code",
   "execution_count": null,
   "metadata": {},
   "outputs": [],
   "source": []
  },
  {
   "cell_type": "code",
   "execution_count": null,
   "metadata": {},
   "outputs": [],
   "source": []
  },
  {
   "cell_type": "code",
   "execution_count": null,
   "metadata": {},
   "outputs": [],
   "source": []
  }
 ],
 "metadata": {
  "kernelspec": {
   "display_name": "Python 3",
   "language": "python",
   "name": "python3"
  },
  "language_info": {
   "codemirror_mode": {
    "name": "ipython",
    "version": 3
   },
   "file_extension": ".py",
   "mimetype": "text/x-python",
   "name": "python",
   "nbconvert_exporter": "python",
   "pygments_lexer": "ipython3",
   "version": "3.6.8"
  }
 },
 "nbformat": 4,
 "nbformat_minor": 2
}
